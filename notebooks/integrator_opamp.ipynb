{
 "cells": [
  {
   "cell_type": "code",
   "execution_count": null,
   "metadata": {},
   "outputs": [],
   "source": [
    "# This notebook will demonstrate analysis of the step response\n",
    "# of two different op-amp integrator configurations."
   ]
  },
  {
   "cell_type": "code",
   "execution_count": null,
   "metadata": {},
   "outputs": [],
   "source": [
    "import sympy as sp\n",
    "import control as ctrl\n",
    "import matplotlib.pyplot as plt"
   ]
  },
  {
   "cell_type": "markdown",
   "metadata": {},
   "source": [
    "![title](../images/integrator.png)"
   ]
  },
  {
   "cell_type": "code",
   "execution_count": null,
   "metadata": {},
   "outputs": [],
   "source": [
    "####################\n",
    "# Basic Integrator #\n",
    "####################\n",
    "\n",
    "# Transfer function\n",
    "\n",
    "Vin, R, C, Vout = sp.symbols('V_in R C V_out', real=True)\n",
    "\n",
    "s = sp.Symbol('s')\n",
    "\n",
    "# Transfer function\n",
    "tf = sp.Eq(Vout/Vin,-1/(s*R*C))\n",
    "tf"
   ]
  },
  {
   "cell_type": "code",
   "execution_count": null,
   "metadata": {},
   "outputs": [],
   "source": [
    "R = 1000 # 1000 ohms\n",
    "C = 50/1000000 # farads (50 microfarads)\n",
    "\n",
    "tf = ctrl.TransferFunction([-1], [R*C, 0])\n",
    "time, response = ctrl.step_response(tf)\n",
    "\n",
    "# Unstable response\n",
    "plt.figure()\n",
    "plt.plot(time, response)\n",
    "plt.xlabel('Time (s)')\n",
    "plt.ylabel('Response')\n",
    "plt.title('Step response of basic integrator')\n",
    "plt.show()\n"
   ]
  },
  {
   "cell_type": "markdown",
   "metadata": {},
   "source": [
    "![title](../images/stabilized_integrator.png)"
   ]
  },
  {
   "cell_type": "code",
   "execution_count": null,
   "metadata": {},
   "outputs": [],
   "source": [
    "#########################\n",
    "# Stabilized Integrator #\n",
    "#########################\n",
    "\n",
    "# Stabilized integrator yields a stable response.\n",
    "\n",
    "Ci, Ri, Cf, Rf = sp.symbols('C_i R_i C_f R_f')\n",
    "\n",
    "def parallel(z1, z2):\n",
    "    return 1/(1/z1 + 1/z2)\n",
    "Zi = parallel(s * Ci, Ri)\n",
    "Zf = parallel(s * Cf, Rf)\n",
    "tf = sp.Eq(Vout/Vin, -Zf/Zi)\n",
    "tf"
   ]
  },
  {
   "cell_type": "code",
   "execution_count": null,
   "metadata": {},
   "outputs": [],
   "source": [
    "Ri = 1000 # 1000 ohms\n",
    "Ci = 50/1000000 # farads (50 microfarads)\n",
    "Rf = 100 # 100 ohms\n",
    "Cf = 100/1000000 # farads (100 microfarads)\n",
    "\n",
    "tf = ctrl.TransferFunction([-Ci/Ri, -1], [Cf/Rf, 1])\n",
    "time, response = ctrl.step_response(tf)\n",
    "\n",
    "plt.figure()\n",
    "plt.plot(time, response)\n",
    "plt.xlabel('Time (s)')\n",
    "plt.ylabel('Response')\n",
    "plt.title('Step response of a stabilized integrator')\n",
    "\n",
    "plt.show()"
   ]
  },
  {
   "cell_type": "code",
   "execution_count": null,
   "metadata": {},
   "outputs": [],
   "source": []
  }
 ],
 "metadata": {
  "kernelspec": {
   "display_name": ".venv",
   "language": "python",
   "name": "python3"
  },
  "language_info": {
   "codemirror_mode": {
    "name": "ipython",
    "version": 3
   },
   "file_extension": ".py",
   "mimetype": "text/x-python",
   "name": "python",
   "nbconvert_exporter": "python",
   "pygments_lexer": "ipython3",
   "version": "3.11.3"
  }
 },
 "nbformat": 4,
 "nbformat_minor": 2
}
